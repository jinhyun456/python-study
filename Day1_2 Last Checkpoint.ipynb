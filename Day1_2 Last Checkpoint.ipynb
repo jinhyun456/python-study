{
 "cells": [
  {
   "cell_type": "markdown",
   "id": "64ae3886",
   "metadata": {},
   "source": [
    "# 1. 순환문\n",
    "\n",
    "특정한 행위(것)을 여러 번 수행하는 문장.  \n",
    "for 와 while\n",
    "\n",
    "### for 문\n",
    "\n",
    "+ 반복되는 클래스의 객체를 가져와서 그 내부에 원소를 읽음."
   ]
  },
  {
   "cell_type": "code",
   "execution_count": 1,
   "id": "d3f61d05",
   "metadata": {},
   "outputs": [
    {
     "data": {
      "text/plain": [
       "range(0, 10)"
      ]
     },
     "execution_count": 1,
     "metadata": {},
     "output_type": "execute_result"
    }
   ],
   "source": [
    "range(0, 10)"
   ]
  },
  {
   "cell_type": "code",
   "execution_count": 2,
   "id": "9e821be1",
   "metadata": {},
   "outputs": [
    {
     "name": "stdout",
     "output_type": "stream",
     "text": [
      "0\n",
      "1\n",
      "2\n",
      "3\n",
      "4\n",
      "5\n",
      "6\n",
      "7\n",
      "8\n",
      "9\n"
     ]
    }
   ],
   "source": [
    "for data in range(0, 10):\n",
    "    print(data)"
   ]
  },
  {
   "cell_type": "markdown",
   "id": "ad1a8224",
   "metadata": {},
   "source": [
    "### range\n",
    "\n",
    "+ 범위 : 첫 인덱스 ~ 마지막 인덱스 -1"
   ]
  },
  {
   "cell_type": "code",
   "execution_count": 3,
   "id": "f699fb04",
   "metadata": {},
   "outputs": [],
   "source": [
    "a = range(10)"
   ]
  },
  {
   "cell_type": "code",
   "execution_count": 4,
   "id": "979c07f2",
   "metadata": {},
   "outputs": [
    {
     "data": {
      "text/plain": [
       "range"
      ]
     },
     "execution_count": 4,
     "metadata": {},
     "output_type": "execute_result"
    }
   ],
   "source": [
    "type(a)"
   ]
  },
  {
   "cell_type": "code",
   "execution_count": 5,
   "id": "4cff4a3d",
   "metadata": {},
   "outputs": [
    {
     "data": {
      "text/plain": [
       "range"
      ]
     },
     "execution_count": 5,
     "metadata": {},
     "output_type": "execute_result"
    }
   ],
   "source": [
    "a.__class__"
   ]
  },
  {
   "cell_type": "code",
   "execution_count": 6,
   "id": "7e590c74",
   "metadata": {},
   "outputs": [
    {
     "name": "stdout",
     "output_type": "stream",
     "text": [
      "1\n",
      "3\n",
      "7\n",
      "4\n"
     ]
    }
   ],
   "source": [
    "for data in [1,3,7,4]:\n",
    "    print(data)"
   ]
  },
  {
   "cell_type": "code",
   "execution_count": 7,
   "id": "bad719dd",
   "metadata": {},
   "outputs": [
    {
     "name": "stdout",
     "output_type": "stream",
     "text": [
      "a\n",
      "b\n",
      "c\n"
     ]
    }
   ],
   "source": [
    "for data in \"abc\":\n",
    "    print(data)"
   ]
  },
  {
   "cell_type": "code",
   "execution_count": 9,
   "id": "13e1c38c",
   "metadata": {},
   "outputs": [
    {
     "name": "stdout",
     "output_type": "stream",
     "text": [
      "a\n",
      "1\n",
      "b\n",
      "2\n"
     ]
    }
   ],
   "source": [
    "dict_data = {'a': 1, 'b': 2}\n",
    "for data in {'a': 1, 'b': 2}:\n",
    "    print(data)\n",
    "    print(dict_data[data])"
   ]
  },
  {
   "cell_type": "code",
   "execution_count": 11,
   "id": "625da9d5",
   "metadata": {},
   "outputs": [
    {
     "name": "stdout",
     "output_type": "stream",
     "text": [
      "['__class__', '__contains__', '__delattr__', '__delitem__', '__dir__', '__doc__', '__eq__', '__format__', '__ge__', '__getattribute__', '__getitem__', '__gt__', '__hash__', '__init__', '__init_subclass__', '__iter__', '__le__', '__len__', '__lt__', '__ne__', '__new__', '__reduce__', '__reduce_ex__', '__repr__', '__reversed__', '__setattr__', '__setitem__', '__sizeof__', '__str__', '__subclasshook__', 'clear', 'copy', 'fromkeys', 'get', 'items', 'keys', 'pop', 'popitem', 'setdefault', 'update', 'values']\n"
     ]
    }
   ],
   "source": [
    "print(dir(dict_data))"
   ]
  },
  {
   "cell_type": "code",
   "execution_count": 13,
   "id": "bf88ec48",
   "metadata": {},
   "outputs": [
    {
     "name": "stdout",
     "output_type": "stream",
     "text": [
      "a\n",
      "b\n"
     ]
    }
   ],
   "source": [
    "for data in dict_data.keys():\n",
    "    print(data)"
   ]
  },
  {
   "cell_type": "code",
   "execution_count": 14,
   "id": "221c9d3d",
   "metadata": {},
   "outputs": [
    {
     "name": "stdout",
     "output_type": "stream",
     "text": [
      "1\n",
      "2\n"
     ]
    }
   ],
   "source": [
    "for data in dict_data.values():\n",
    "    print(data)"
   ]
  },
  {
   "cell_type": "code",
   "execution_count": 15,
   "id": "6e07746c",
   "metadata": {},
   "outputs": [
    {
     "name": "stdout",
     "output_type": "stream",
     "text": [
      "a 1\n",
      "b 2\n"
     ]
    }
   ],
   "source": [
    "for (k, v) in dict_data.items():\n",
    "    print(k, v)"
   ]
  },
  {
   "cell_type": "code",
   "execution_count": 16,
   "id": "dabc2b98",
   "metadata": {},
   "outputs": [
    {
     "name": "stdout",
     "output_type": "stream",
     "text": [
      "HEIGHT : 165\n"
     ]
    }
   ],
   "source": [
    "print(\"HEIGHT : \" + str(165))"
   ]
  },
  {
   "cell_type": "code",
   "execution_count": 17,
   "id": "988c466f",
   "metadata": {},
   "outputs": [
    {
     "data": {
      "text/plain": [
       "'HEIGHT : 165 '"
      ]
     },
     "execution_count": 17,
     "metadata": {},
     "output_type": "execute_result"
    }
   ],
   "source": [
    "f\"HEIGHT : {165} \""
   ]
  },
  {
   "cell_type": "code",
   "execution_count": 20,
   "id": "ed9591b7",
   "metadata": {},
   "outputs": [
    {
     "name": "stdout",
     "output_type": "stream",
     "text": [
      "loop\n"
     ]
    }
   ],
   "source": [
    "for data in range(5):\n",
    "    print(\"loop\")\n",
    "    break"
   ]
  },
  {
   "cell_type": "markdown",
   "id": "21d5fb10",
   "metadata": {},
   "source": [
    "# continue\n"
   ]
  },
  {
   "cell_type": "code",
   "execution_count": 23,
   "id": "bed40bea",
   "metadata": {},
   "outputs": [],
   "source": [
    "for data in range(10):\n",
    "    if data % 2 == 0:\n",
    "        continue\n",
    "        print(f'{ data } : loop')"
   ]
  },
  {
   "cell_type": "code",
   "execution_count": 25,
   "id": "6d28def2",
   "metadata": {},
   "outputs": [
    {
     "ename": "NameError",
     "evalue": "name 'fange' is not defined",
     "output_type": "error",
     "traceback": [
      "\u001b[1;31m---------------------------------------------------------------------------\u001b[0m",
      "\u001b[1;31mNameError\u001b[0m                                 Traceback (most recent call last)",
      "\u001b[1;32m<ipython-input-25-bbde12e1b735>\u001b[0m in \u001b[0;36m<module>\u001b[1;34m\u001b[0m\n\u001b[1;32m----> 1\u001b[1;33m \u001b[1;32mfor\u001b[0m \u001b[0mdata\u001b[0m \u001b[1;32min\u001b[0m \u001b[0mfange\u001b[0m\u001b[1;33m(\u001b[0m\u001b[1;36m5\u001b[0m\u001b[1;33m)\u001b[0m\u001b[1;33m:\u001b[0m\u001b[1;33m\u001b[0m\u001b[1;33m\u001b[0m\u001b[0m\n\u001b[0m\u001b[0;32m      2\u001b[0m     \u001b[0mprint\u001b[0m\u001b[1;33m(\u001b[0m\u001b[0mdata\u001b[0m\u001b[1;33m)\u001b[0m\u001b[1;33m\u001b[0m\u001b[1;33m\u001b[0m\u001b[0m\n\u001b[0;32m      3\u001b[0m \u001b[1;32melse\u001b[0m\u001b[1;33m:\u001b[0m\u001b[1;33m\u001b[0m\u001b[1;33m\u001b[0m\u001b[0m\n\u001b[0;32m      4\u001b[0m         \u001b[0mprint\u001b[0m\u001b[1;33m(\u001b[0m\u001b[1;34m\"for loop end\"\u001b[0m\u001b[1;33m)\u001b[0m\u001b[1;33m\u001b[0m\u001b[1;33m\u001b[0m\u001b[0m\n",
      "\u001b[1;31mNameError\u001b[0m: name 'fange' is not defined"
     ]
    }
   ],
   "source": [
    "for data in fange(5):\n",
    "    print(data)\n",
    "else:\n",
    "        print(\"for loop end\")"
   ]
  },
  {
   "cell_type": "code",
   "execution_count": 26,
   "id": "bb96dabe",
   "metadata": {},
   "outputs": [],
   "source": [
    "for data in range(5):\n",
    "    if data == 3:\n",
    "        break\n",
    "        print(data)\n",
    "else:\n",
    "    print(\"for loop end\")"
   ]
  },
  {
   "cell_type": "code",
   "execution_count": 32,
   "id": "edd17056",
   "metadata": {},
   "outputs": [
    {
     "name": "stdout",
     "output_type": "stream",
     "text": [
      "구구단 출력\n",
      "\n",
      "@@@@@@@@[2단]@@@@@@@@\n",
      "2 x 1 = 2\n",
      "2 x 2 = 4\n",
      "2 x 3 = 6\n",
      "2 x 4 = 8\n",
      "2 x 5 = 10\n",
      "2 x 6 = 12\n",
      "2 x 7 = 14\n",
      "2 x 8 = 16\n",
      "2 x 9 = 18\n",
      "@@@@@@@@[3단]@@@@@@@@\n",
      "3 x 1 = 3\n",
      "3 x 2 = 6\n",
      "3 x 3 = 9\n",
      "3 x 4 = 12\n",
      "3 x 5 = 15\n",
      "3 x 6 = 18\n",
      "3 x 7 = 21\n",
      "3 x 8 = 24\n",
      "3 x 9 = 27\n",
      "@@@@@@@@[4단]@@@@@@@@\n",
      "4 x 1 = 4\n",
      "4 x 2 = 8\n",
      "4 x 3 = 12\n",
      "4 x 4 = 16\n",
      "4 x 5 = 20\n",
      "4 x 6 = 24\n",
      "4 x 7 = 28\n",
      "4 x 8 = 32\n",
      "4 x 9 = 36\n",
      "@@@@@@@@[5단]@@@@@@@@\n",
      "5 x 1 = 5\n",
      "5 x 2 = 10\n",
      "5 x 3 = 15\n",
      "5 x 4 = 20\n",
      "5 x 5 = 25\n",
      "5 x 6 = 30\n",
      "5 x 7 = 35\n",
      "5 x 8 = 40\n",
      "5 x 9 = 45\n",
      "@@@@@@@@[6단]@@@@@@@@\n",
      "6 x 1 = 6\n",
      "6 x 2 = 12\n",
      "6 x 3 = 18\n",
      "6 x 4 = 24\n",
      "6 x 5 = 30\n",
      "6 x 6 = 36\n",
      "6 x 7 = 42\n",
      "6 x 8 = 48\n",
      "6 x 9 = 54\n",
      "@@@@@@@@[7단]@@@@@@@@\n",
      "7 x 1 = 7\n",
      "7 x 2 = 14\n",
      "7 x 3 = 21\n",
      "7 x 4 = 28\n",
      "7 x 5 = 35\n",
      "7 x 6 = 42\n",
      "7 x 7 = 49\n",
      "7 x 8 = 56\n",
      "7 x 9 = 63\n",
      "@@@@@@@@[8단]@@@@@@@@\n",
      "8 x 1 = 8\n",
      "8 x 2 = 16\n",
      "8 x 3 = 24\n",
      "8 x 4 = 32\n",
      "8 x 5 = 40\n",
      "8 x 6 = 48\n",
      "8 x 7 = 56\n",
      "8 x 8 = 64\n",
      "8 x 9 = 72\n",
      "@@@@@@@@[9단]@@@@@@@@\n",
      "9 x 1 = 9\n",
      "9 x 2 = 18\n",
      "9 x 3 = 27\n",
      "9 x 4 = 36\n",
      "9 x 5 = 45\n",
      "9 x 6 = 54\n",
      "9 x 7 = 63\n",
      "9 x 8 = 72\n",
      "9 x 9 = 81\n"
     ]
    }
   ],
   "source": [
    "print(\"구구단 출력\\n\")\n",
    "for x in range(2, 10):\n",
    "    print(\"@@@@@@@@[\" + str(x) + \"단]@@@@@@@@\")\n",
    "    for y in range(1, 10):\n",
    "        print(x, \"x\", y, \"=\", x*y)"
   ]
  },
  {
   "cell_type": "markdown",
   "id": "58d92c43",
   "metadata": {},
   "source": [
    "# 강사님이 짜주신 구구단"
   ]
  },
  {
   "cell_type": "code",
   "execution_count": 33,
   "id": "062e9a59",
   "metadata": {},
   "outputs": [
    {
     "name": "stdout",
     "output_type": "stream",
     "text": [
      "2단\n",
      "2 X 1 = 2\n",
      "\n",
      "2 X 2 = 4\n",
      "\n",
      "2 X 3 = 6\n",
      "\n",
      "2 X 4 = 8\n",
      "\n",
      "2 X 5 = 10\n",
      "\n",
      "2 X 6 = 12\n",
      "\n",
      "2 X 7 = 14\n",
      "\n",
      "2 X 8 = 16\n",
      "\n",
      "2 X 9 = 18\n",
      "\n",
      "3단\n",
      "3 X 1 = 3\n",
      "\n",
      "3 X 2 = 6\n",
      "\n",
      "3 X 3 = 9\n",
      "\n",
      "3 X 4 = 12\n",
      "\n",
      "3 X 5 = 15\n",
      "\n",
      "3 X 6 = 18\n",
      "\n",
      "3 X 7 = 21\n",
      "\n",
      "3 X 8 = 24\n",
      "\n",
      "3 X 9 = 27\n",
      "\n",
      "4단\n",
      "4 X 1 = 4\n",
      "\n",
      "4 X 2 = 8\n",
      "\n",
      "4 X 3 = 12\n",
      "\n",
      "4 X 4 = 16\n",
      "\n",
      "4 X 5 = 20\n",
      "\n",
      "4 X 6 = 24\n",
      "\n",
      "4 X 7 = 28\n",
      "\n",
      "4 X 8 = 32\n",
      "\n",
      "4 X 9 = 36\n",
      "\n",
      "5단\n",
      "5 X 1 = 5\n",
      "\n",
      "5 X 2 = 10\n",
      "\n",
      "5 X 3 = 15\n",
      "\n",
      "5 X 4 = 20\n",
      "\n",
      "5 X 5 = 25\n",
      "\n",
      "5 X 6 = 30\n",
      "\n",
      "5 X 7 = 35\n",
      "\n",
      "5 X 8 = 40\n",
      "\n",
      "5 X 9 = 45\n",
      "\n",
      "6단\n",
      "6 X 1 = 6\n",
      "\n",
      "6 X 2 = 12\n",
      "\n",
      "6 X 3 = 18\n",
      "\n",
      "6 X 4 = 24\n",
      "\n",
      "6 X 5 = 30\n",
      "\n",
      "6 X 6 = 36\n",
      "\n",
      "6 X 7 = 42\n",
      "\n",
      "6 X 8 = 48\n",
      "\n",
      "6 X 9 = 54\n",
      "\n",
      "7단\n",
      "7 X 1 = 7\n",
      "\n",
      "7 X 2 = 14\n",
      "\n",
      "7 X 3 = 21\n",
      "\n",
      "7 X 4 = 28\n",
      "\n",
      "7 X 5 = 35\n",
      "\n",
      "7 X 6 = 42\n",
      "\n",
      "7 X 7 = 49\n",
      "\n",
      "7 X 8 = 56\n",
      "\n",
      "7 X 9 = 63\n",
      "\n",
      "8단\n",
      "8 X 1 = 8\n",
      "\n",
      "8 X 2 = 16\n",
      "\n",
      "8 X 3 = 24\n",
      "\n",
      "8 X 4 = 32\n",
      "\n",
      "8 X 5 = 40\n",
      "\n",
      "8 X 6 = 48\n",
      "\n",
      "8 X 7 = 56\n",
      "\n",
      "8 X 8 = 64\n",
      "\n",
      "8 X 9 = 72\n",
      "\n",
      "9단\n",
      "9 X 1 = 9\n",
      "\n",
      "9 X 2 = 18\n",
      "\n",
      "9 X 3 = 27\n",
      "\n",
      "9 X 4 = 36\n",
      "\n",
      "9 X 5 = 45\n",
      "\n",
      "9 X 6 = 54\n",
      "\n",
      "9 X 7 = 63\n",
      "\n",
      "9 X 8 = 72\n",
      "\n",
      "9 X 9 = 81\n",
      "\n"
     ]
    }
   ],
   "source": [
    "for first in range(2,10):\n",
    "    print(f'{first}단')\n",
    "    for second in range(1,10):\n",
    "        print(f'{ first } X { second } = {first * second}')\n",
    "        print()"
   ]
  },
  {
   "cell_type": "markdown",
   "id": "9b2a9fbc",
   "metadata": {},
   "source": [
    "#### while문\n",
    "- 특정 조건식이 만족하는 경우에 순환을 처리"
   ]
  },
  {
   "cell_type": "code",
   "execution_count": 34,
   "id": "993839e2",
   "metadata": {},
   "outputs": [
    {
     "name": "stdout",
     "output_type": "stream",
     "text": [
      "loop\n",
      "loop\n",
      "loop\n",
      "loop\n",
      "loop\n",
      "loop\n"
     ]
    }
   ],
   "source": [
    "index = 0\n",
    "while True:\n",
    "    print(\"loop\")\n",
    "    index += 1\n",
    "    if index > 5:\n",
    "        break"
   ]
  },
  {
   "cell_type": "code",
   "execution_count": 42,
   "id": "9bfe1ea5",
   "metadata": {},
   "outputs": [
    {
     "ename": "IndentationError",
     "evalue": "unindent does not match any outer indentation level (<tokenize>, line 8)",
     "output_type": "error",
     "traceback": [
      "\u001b[1;36m  File \u001b[1;32m\"<tokenize>\"\u001b[1;36m, line \u001b[1;32m8\u001b[0m\n\u001b[1;33m    print(f'{ first }단')\u001b[0m\n\u001b[1;37m    ^\u001b[0m\n\u001b[1;31mIndentationError\u001b[0m\u001b[1;31m:\u001b[0m unindent does not match any outer indentation level\n"
     ]
    }
   ],
   "source": [
    "first = 2\n",
    "second = 1\n",
    "\n",
    "is_dan = False\n",
    "\n",
    "while True:\n",
    "        if is_dan is False:\n",
    "    print(f'{ first }단')\n",
    "    is_dan = True\n",
    "    \n",
    "    print(f'{ first} X { second } = { first * second}')\n",
    "   \n",
    "    \n",
    "    if second == 9:\n",
    "        if first == 9:\n",
    "            break\n",
    "            \n",
    "            second = 1\n",
    "            first += 1"
   ]
  },
  {
   "cell_type": "markdown",
   "id": "d8106da3",
   "metadata": {},
   "source": [
    "# 제어문\n",
    "\n",
    "keyword : if (elif) else  \n",
    "특정 조건을 판단해서   특정 기능을 처리.\n",
    "\n",
    "### 비교 연산자\n",
    "\n",
    "== ( equal ), <, >, >=, <="
   ]
  },
  {
   "cell_type": "code",
   "execution_count": 43,
   "id": "7c29b342",
   "metadata": {},
   "outputs": [
    {
     "data": {
      "text/plain": [
       "True"
      ]
     },
     "execution_count": 43,
     "metadata": {},
     "output_type": "execute_result"
    }
   ],
   "source": [
    "100 == 100"
   ]
  },
  {
   "cell_type": "code",
   "execution_count": 44,
   "id": "1d491207",
   "metadata": {},
   "outputs": [
    {
     "data": {
      "text/plain": [
       "False"
      ]
     },
     "execution_count": 44,
     "metadata": {},
     "output_type": "execute_result"
    }
   ],
   "source": [
    "100 < 99"
   ]
  },
  {
   "cell_type": "markdown",
   "id": "11c47774",
   "metadata": {},
   "source": [
    "# 논리 연산자\n",
    "\n",
    "and, or"
   ]
  },
  {
   "cell_type": "code",
   "execution_count": 45,
   "id": "bcb3b2b0",
   "metadata": {},
   "outputs": [
    {
     "data": {
      "text/plain": [
       "True"
      ]
     },
     "execution_count": 45,
     "metadata": {},
     "output_type": "execute_result"
    }
   ],
   "source": [
    "(100 == 100) and (100 > 99)"
   ]
  },
  {
   "cell_type": "code",
   "execution_count": 46,
   "id": "0c6c0430",
   "metadata": {},
   "outputs": [
    {
     "data": {
      "text/plain": [
       "False"
      ]
     },
     "execution_count": 46,
     "metadata": {},
     "output_type": "execute_result"
    }
   ],
   "source": [
    "(100 == 100) and (100 < 99)"
   ]
  },
  {
   "cell_type": "code",
   "execution_count": 47,
   "id": "385e3f92",
   "metadata": {},
   "outputs": [
    {
     "data": {
      "text/plain": [
       "True"
      ]
     },
     "execution_count": 47,
     "metadata": {},
     "output_type": "execute_result"
    }
   ],
   "source": [
    "(100 == 100) or (100 > 99)"
   ]
  },
  {
   "cell_type": "code",
   "execution_count": 48,
   "id": "fc327c2d",
   "metadata": {},
   "outputs": [
    {
     "data": {
      "text/plain": [
       "True"
      ]
     },
     "execution_count": 48,
     "metadata": {},
     "output_type": "execute_result"
    }
   ],
   "source": [
    "(100 == 100) or (100 < 99)"
   ]
  },
  {
   "cell_type": "markdown",
   "id": "5a683882",
   "metadata": {},
   "source": [
    "# 단순 조건문 if"
   ]
  },
  {
   "cell_type": "code",
   "execution_count": 49,
   "id": "db38720a",
   "metadata": {},
   "outputs": [],
   "source": [
    "import random"
   ]
  },
  {
   "cell_type": "code",
   "execution_count": 58,
   "id": "e19e16f8",
   "metadata": {},
   "outputs": [
    {
     "name": "stdout",
     "output_type": "stream",
     "text": [
      "False\n",
      "8\n"
     ]
    }
   ],
   "source": [
    "random_value = random.randint(0, 10)\n",
    "\n",
    "if random_value < 5:\n",
    "    print(\"True\")\n",
    "else:\n",
    "    print(\"False\")\n",
    "print(random_value)"
   ]
  },
  {
   "cell_type": "markdown",
   "id": "ddad6e64",
   "metadata": {},
   "source": [
    "### 삼항연산자"
   ]
  },
  {
   "cell_type": "code",
   "execution_count": 70,
   "id": "ac557d40",
   "metadata": {},
   "outputs": [
    {
     "name": "stdout",
     "output_type": "stream",
     "text": [
      "5 under\n",
      "3\n"
     ]
    }
   ],
   "source": [
    "random_value = random.randint(0, 10)\n",
    "\n",
    "print(\"5 over\") if random_value > 5 else print(\"5 under\")\n",
    "print(random_value)"
   ]
  },
  {
   "cell_type": "code",
   "execution_count": 71,
   "id": "3d798548",
   "metadata": {},
   "outputs": [
    {
     "name": "stdout",
     "output_type": "stream",
     "text": [
      "값을 입력하세요.1\n"
     ]
    },
    {
     "data": {
      "text/plain": [
       "'1'"
      ]
     },
     "execution_count": 71,
     "metadata": {},
     "output_type": "execute_result"
    }
   ],
   "source": [
    "input(\"값을 입력하세요.\")"
   ]
  },
  {
   "cell_type": "markdown",
   "id": "7522f5f0",
   "metadata": {},
   "source": [
    "## 스무고개 할껀가요???"
   ]
  },
  {
   "cell_type": "code",
   "execution_count": 77,
   "id": "62938b62",
   "metadata": {
    "scrolled": false
   },
   "outputs": [
    {
     "name": "stdout",
     "output_type": "stream",
     "text": [
      "1부터 20까지의 숫자가 있습니다.\n",
      "예상하는 숫자를 입력하세요\n",
      "1\n",
      "예상한 숫자가 너무 작습니다.\n",
      "아니오. 내가 생각하고 있던 번호는17입니다\n",
      "예상하는 숫자를 입력하세요\n",
      "2\n",
      "예상한 숫자가 너무 작습니다.\n",
      "아니오. 내가 생각하고 있던 번호는17입니다\n",
      "예상하는 숫자를 입력하세요\n",
      "17\n"
     ]
    }
   ],
   "source": [
    "import random\n",
    "secretNumber = random.randint(1, 20)\n",
    "print('1부터 20까지의 숫자가 있습니다.')\n",
    "\n",
    "for guessTaken in range(1, 7):\n",
    "    print('예상하는 숫자를 입력하세요')\n",
    "    guess = int(input())\n",
    "    \n",
    "    if guess < secretNumber:\n",
    "        print('예상한 숫자가 너무 작습니다.')\n",
    "    elif guess > secretNumber:\n",
    "        print('예상한 숫자가 너무 큽니다.')\n",
    "    else:\n",
    "        break\n",
    "        \n",
    "    if guess == secretNumber:\n",
    "        print('예상한 숫자' + str(guess) + '는 정답입니다.')\n",
    "    else:\n",
    "        print('아니오. 내가 생각하고 있던 번호는' + str(secretNumber) + '입니다')"
   ]
  },
  {
   "cell_type": "markdown",
   "id": "2a18528a",
   "metadata": {},
   "source": [
    "## 강사님 코드"
   ]
  },
  {
   "cell_type": "code",
   "execution_count": 79,
   "id": "55d4426b",
   "metadata": {},
   "outputs": [],
   "source": [
    "import random"
   ]
  },
  {
   "cell_type": "code",
   "execution_count": 80,
   "id": "21a1f8b5",
   "metadata": {},
   "outputs": [],
   "source": [
    "random_value = random.randint(0, 50)"
   ]
  },
  {
   "cell_type": "code",
   "execution_count": 88,
   "id": "34554322",
   "metadata": {},
   "outputs": [
    {
     "ename": "KeyboardInterrupt",
     "evalue": "Interrupted by user",
     "output_type": "error",
     "traceback": [
      "\u001b[1;31m---------------------------------------------------------------------------\u001b[0m",
      "\u001b[1;31mKeyboardInterrupt\u001b[0m                         Traceback (most recent call last)",
      "\u001b[1;32m<ipython-input-88-f7d1e6be5835>\u001b[0m in \u001b[0;36m<module>\u001b[1;34m\u001b[0m\n\u001b[0;32m      1\u001b[0m \u001b[1;32mfor\u001b[0m \u001b[0mindex\u001b[0m \u001b[1;32min\u001b[0m \u001b[0mrange\u001b[0m\u001b[1;33m(\u001b[0m\u001b[1;36m20\u001b[0m\u001b[1;33m)\u001b[0m\u001b[1;33m:\u001b[0m\u001b[1;33m\u001b[0m\u001b[1;33m\u001b[0m\u001b[0m\n\u001b[1;32m----> 2\u001b[1;33m     \u001b[0minput_value\u001b[0m \u001b[1;33m=\u001b[0m \u001b[0mint\u001b[0m\u001b[1;33m(\u001b[0m\u001b[0minput\u001b[0m\u001b[1;33m(\u001b[0m\u001b[1;34m'정답을 입력해주세요.'\u001b[0m\u001b[1;33m)\u001b[0m\u001b[1;33m)\u001b[0m\u001b[1;33m\u001b[0m\u001b[1;33m\u001b[0m\u001b[0m\n\u001b[0m\u001b[0;32m      3\u001b[0m \u001b[1;33m\u001b[0m\u001b[0m\n\u001b[0;32m      4\u001b[0m     \u001b[1;32mif\u001b[0m \u001b[0minput_value\u001b[0m \u001b[1;33m==\u001b[0m \u001b[0mrandom_value\u001b[0m\u001b[1;33m:\u001b[0m\u001b[1;33m\u001b[0m\u001b[1;33m\u001b[0m\u001b[0m\n\u001b[0;32m      5\u001b[0m         \u001b[0mprint\u001b[0m\u001b[1;33m(\u001b[0m\u001b[1;34m\"정답입니다!\"\u001b[0m\u001b[1;33m)\u001b[0m\u001b[1;33m\u001b[0m\u001b[1;33m\u001b[0m\u001b[0m\n",
      "\u001b[1;32m~\\anaconda3\\lib\\site-packages\\ipykernel\\kernelbase.py\u001b[0m in \u001b[0;36mraw_input\u001b[1;34m(self, prompt)\u001b[0m\n\u001b[0;32m    858\u001b[0m                 \u001b[1;34m\"raw_input was called, but this frontend does not support input requests.\"\u001b[0m\u001b[1;33m\u001b[0m\u001b[1;33m\u001b[0m\u001b[0m\n\u001b[0;32m    859\u001b[0m             )\n\u001b[1;32m--> 860\u001b[1;33m         return self._input_request(str(prompt),\n\u001b[0m\u001b[0;32m    861\u001b[0m             \u001b[0mself\u001b[0m\u001b[1;33m.\u001b[0m\u001b[0m_parent_ident\u001b[0m\u001b[1;33m,\u001b[0m\u001b[1;33m\u001b[0m\u001b[1;33m\u001b[0m\u001b[0m\n\u001b[0;32m    862\u001b[0m             \u001b[0mself\u001b[0m\u001b[1;33m.\u001b[0m\u001b[0m_parent_header\u001b[0m\u001b[1;33m,\u001b[0m\u001b[1;33m\u001b[0m\u001b[1;33m\u001b[0m\u001b[0m\n",
      "\u001b[1;32m~\\anaconda3\\lib\\site-packages\\ipykernel\\kernelbase.py\u001b[0m in \u001b[0;36m_input_request\u001b[1;34m(self, prompt, ident, parent, password)\u001b[0m\n\u001b[0;32m    902\u001b[0m             \u001b[1;32mexcept\u001b[0m \u001b[0mKeyboardInterrupt\u001b[0m\u001b[1;33m:\u001b[0m\u001b[1;33m\u001b[0m\u001b[1;33m\u001b[0m\u001b[0m\n\u001b[0;32m    903\u001b[0m                 \u001b[1;31m# re-raise KeyboardInterrupt, to truncate traceback\u001b[0m\u001b[1;33m\u001b[0m\u001b[1;33m\u001b[0m\u001b[1;33m\u001b[0m\u001b[0m\n\u001b[1;32m--> 904\u001b[1;33m                 \u001b[1;32mraise\u001b[0m \u001b[0mKeyboardInterrupt\u001b[0m\u001b[1;33m(\u001b[0m\u001b[1;34m\"Interrupted by user\"\u001b[0m\u001b[1;33m)\u001b[0m \u001b[1;32mfrom\u001b[0m \u001b[1;32mNone\u001b[0m\u001b[1;33m\u001b[0m\u001b[1;33m\u001b[0m\u001b[0m\n\u001b[0m\u001b[0;32m    905\u001b[0m             \u001b[1;32mexcept\u001b[0m \u001b[0mException\u001b[0m \u001b[1;32mas\u001b[0m \u001b[0me\u001b[0m\u001b[1;33m:\u001b[0m\u001b[1;33m\u001b[0m\u001b[1;33m\u001b[0m\u001b[0m\n\u001b[0;32m    906\u001b[0m                 \u001b[0mself\u001b[0m\u001b[1;33m.\u001b[0m\u001b[0mlog\u001b[0m\u001b[1;33m.\u001b[0m\u001b[0mwarning\u001b[0m\u001b[1;33m(\u001b[0m\u001b[1;34m\"Invalid Message:\"\u001b[0m\u001b[1;33m,\u001b[0m \u001b[0mexc_info\u001b[0m\u001b[1;33m=\u001b[0m\u001b[1;32mTrue\u001b[0m\u001b[1;33m)\u001b[0m\u001b[1;33m\u001b[0m\u001b[1;33m\u001b[0m\u001b[0m\n",
      "\u001b[1;31mKeyboardInterrupt\u001b[0m: Interrupted by user"
     ]
    }
   ],
   "source": [
    "for index in range(20):\n",
    "    input_value = int(input('정답을 입력해주세요.'))\n",
    "    \n",
    "    if input_value == random_value:\n",
    "        print(\"정답입니다!\")\n",
    "        break\n",
    "    elif input_value < random_value:\n",
    "        print(\"작습니다.\")\n",
    "    else:\n",
    "        print(\"큽니다.\")\n",
    "else:\n",
    "    print(\"스무고개 게임이 종료됐습니다.\")"
   ]
  },
  {
   "cell_type": "markdown",
   "id": "25f21b5a",
   "metadata": {},
   "source": [
    "# 예외문\n",
    "\n",
    "keyword : try except  \n",
    "모든 코드는 실행 중에 에러나 예외가 발생하는 상황 존재  \n",
    "특정 코드를 처리하게끔 해주는 것."
   ]
  },
  {
   "cell_type": "code",
   "execution_count": 87,
   "id": "a976c1ea",
   "metadata": {},
   "outputs": [
    {
     "name": "stdout",
     "output_type": "stream",
     "text": [
      "try\n",
      "Exception\n"
     ]
    }
   ],
   "source": [
    "try:\n",
    "    print(\"try\")\n",
    "    print('str' + srt(1))\n",
    "except:\n",
    "    print(\"Exception\")\n",
    "else:\n",
    "    print(\"else\")"
   ]
  },
  {
   "cell_type": "code",
   "execution_count": 89,
   "id": "3971d652",
   "metadata": {},
   "outputs": [
    {
     "name": "stdout",
     "output_type": "stream",
     "text": [
      "False\n",
      "try\n",
      "Exception\n",
      "<class 'TypeError'>\n",
      "Finally\n",
      "Send Email for warning\n"
     ]
    }
   ],
   "source": [
    "import sys\n",
    "\n",
    "is_try = False\n",
    "print(is_try)\n",
    "\n",
    "try:\n",
    "    print(\"try\")\n",
    "    print('str' + 1)\n",
    "except:\n",
    "    print(\"Exception\")\n",
    "    is_try = True\n",
    "    print(sys.exc_info()[0])\n",
    "finally:\n",
    "    print(\"Finally\")\n",
    "    if is_try == True:\n",
    "        print(\"Send Email for warning\")"
   ]
  },
  {
   "cell_type": "markdown",
   "id": "2e0b6160",
   "metadata": {},
   "source": [
    "# 정수 (int) cached internal"
   ]
  },
  {
   "cell_type": "code",
   "execution_count": 1,
   "id": "787a6f40",
   "metadata": {},
   "outputs": [
    {
     "data": {
      "text/plain": [
       "100"
      ]
     },
     "execution_count": 1,
     "metadata": {},
     "output_type": "execute_result"
    }
   ],
   "source": [
    "100"
   ]
  },
  {
   "cell_type": "markdown",
   "id": "24adb9aa",
   "metadata": {},
   "source": [
    "[-5,256] 범위의 정수는 인스턴스를 재생성 하지 않는다"
   ]
  },
  {
   "cell_type": "code",
   "execution_count": 4,
   "id": "6fd6c226",
   "metadata": {},
   "outputs": [],
   "source": [
    "a = 256; b = 256; c =256"
   ]
  },
  {
   "cell_type": "code",
   "execution_count": 5,
   "id": "14cc5425",
   "metadata": {},
   "outputs": [
    {
     "data": {
      "text/plain": [
       "True"
      ]
     },
     "execution_count": 5,
     "metadata": {},
     "output_type": "execute_result"
    }
   ],
   "source": [
    "a is b is c"
   ]
  },
  {
   "cell_type": "code",
   "execution_count": 6,
   "id": "e3b178f7",
   "metadata": {},
   "outputs": [
    {
     "data": {
      "text/plain": [
       "(140735795382032, 140735795382032, 140735795382032)"
      ]
     },
     "execution_count": 6,
     "metadata": {},
     "output_type": "execute_result"
    }
   ],
   "source": [
    "id(a), id(b), id(c)"
   ]
  },
  {
   "cell_type": "code",
   "execution_count": 9,
   "id": "ae2e4795",
   "metadata": {},
   "outputs": [],
   "source": [
    "d = 257; e = 257; f = 257"
   ]
  },
  {
   "cell_type": "code",
   "execution_count": 10,
   "id": "f3160c5f",
   "metadata": {},
   "outputs": [
    {
     "data": {
      "text/plain": [
       "False"
      ]
     },
     "execution_count": 10,
     "metadata": {},
     "output_type": "execute_result"
    }
   ],
   "source": [
    "d is e is f"
   ]
  },
  {
   "cell_type": "code",
   "execution_count": 11,
   "id": "1417d99e",
   "metadata": {},
   "outputs": [
    {
     "data": {
      "text/plain": [
       "(2076295374032, 2076295375280, 2076295375216)"
      ]
     },
     "execution_count": 11,
     "metadata": {},
     "output_type": "execute_result"
    }
   ],
   "source": [
    "id(d), id(e), id(f)"
   ]
  },
  {
   "cell_type": "markdown",
   "id": "3e8908f0",
   "metadata": {},
   "source": [
    "### str 객체의 cached internal"
   ]
  },
  {
   "cell_type": "code",
   "execution_count": 12,
   "id": "bcbe1e12",
   "metadata": {},
   "outputs": [],
   "source": [
    "a = \"ab\"; b = \"ab\"; c = \"ab\""
   ]
  },
  {
   "cell_type": "code",
   "execution_count": 13,
   "id": "22394587",
   "metadata": {},
   "outputs": [
    {
     "data": {
      "text/plain": [
       "True"
      ]
     },
     "execution_count": 13,
     "metadata": {},
     "output_type": "execute_result"
    }
   ],
   "source": [
    "a is b is c"
   ]
  },
  {
   "cell_type": "code",
   "execution_count": 16,
   "id": "1fb7dad7",
   "metadata": {},
   "outputs": [
    {
     "data": {
      "text/plain": [
       "(2076232327600, 2076232327600, 2076232327600)"
      ]
     },
     "execution_count": 16,
     "metadata": {},
     "output_type": "execute_result"
    }
   ],
   "source": [
    "id(a), id(b), id(c)"
   ]
  },
  {
   "cell_type": "code",
   "execution_count": 14,
   "id": "a057c3e3",
   "metadata": {},
   "outputs": [],
   "source": [
    "d = \"!!\"; e = \"!!\"; f = \"!!\""
   ]
  },
  {
   "cell_type": "code",
   "execution_count": 15,
   "id": "dad49afe",
   "metadata": {},
   "outputs": [
    {
     "data": {
      "text/plain": [
       "False"
      ]
     },
     "execution_count": 15,
     "metadata": {},
     "output_type": "execute_result"
    }
   ],
   "source": [
    "d is e is f"
   ]
  },
  {
   "cell_type": "markdown",
   "id": "00e48b91",
   "metadata": {},
   "source": [
    "# 함수\n",
    "\n",
    "반복되는 코드의 중복을 방지하기 위한 하나의 코드 블록을 이야기한다.  \n",
    "정의를 먼저 진행하고, 이 함수의 이름을 호출해서 사용한다. ( () )  \n",
    "순수함수, 비순수함수  \n",
    "순수함수 : 입력을 받아서 출력을 처리해서 전달해주는 함수 ( ex: f(x)=y )  \n",
    "비순수함수: 함수 내의 기능의 외부의 변수나 객체를 호출한다음에 상태를 바꿔주는 함수(ex: f(x) )"
   ]
  },
  {
   "cell_type": "code",
   "execution_count": null,
   "id": "72b3c879",
   "metadata": {},
   "outputs": [],
   "source": []
  }
 ],
 "metadata": {
  "kernelspec": {
   "display_name": "Python 3",
   "language": "python",
   "name": "python3"
  },
  "language_info": {
   "codemirror_mode": {
    "name": "ipython",
    "version": 3
   },
   "file_extension": ".py",
   "mimetype": "text/x-python",
   "name": "python",
   "nbconvert_exporter": "python",
   "pygments_lexer": "ipython3",
   "version": "3.8.8"
  }
 },
 "nbformat": 4,
 "nbformat_minor": 5
}
