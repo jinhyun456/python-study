{
 "cells": [
  {
   "cell_type": "markdown",
   "id": "12f38a49",
   "metadata": {},
   "source": [
    "### 일반 로직과 함수 처리 비교\n",
    "일반로직 : 한번을 처리할 때 일반적인 로직으로 처리  \n",
    "동일한 로직을 여러 번 사용할 때는 함수로 정의해서 사용 가능  "
   ]
  },
  {
   "cell_type": "code",
   "execution_count": 4,
   "id": "ab203b8b",
   "metadata": {},
   "outputs": [
    {
     "name": "stdout",
     "output_type": "stream",
     "text": [
      "45\n"
     ]
    }
   ],
   "source": [
    "a = 0\n",
    "for data in range(0,10):\n",
    "    a += data\n",
    "    \n",
    "print(a)"
   ]
  },
  {
   "cell_type": "code",
   "execution_count": 5,
   "id": "a006780f",
   "metadata": {},
   "outputs": [],
   "source": [
    "def add_function(a):\n",
    "    for data in range(0, 10):\n",
    "        a += data\n",
    "        \n",
    "    return a"
   ]
  },
  {
   "cell_type": "code",
   "execution_count": 6,
   "id": "7d8bb1e9",
   "metadata": {},
   "outputs": [
    {
     "data": {
      "text/plain": [
       "90"
      ]
     },
     "execution_count": 6,
     "metadata": {},
     "output_type": "execute_result"
    }
   ],
   "source": [
    "add_function(a)"
   ]
  },
  {
   "cell_type": "code",
   "execution_count": 7,
   "id": "7f1d0f9d",
   "metadata": {},
   "outputs": [
    {
     "data": {
      "text/plain": [
       "<function __main__.add_function(a)>"
      ]
     },
     "execution_count": 7,
     "metadata": {},
     "output_type": "execute_result"
    }
   ],
   "source": [
    "add_function"
   ]
  },
  {
   "cell_type": "code",
   "execution_count": 8,
   "id": "611e1122",
   "metadata": {},
   "outputs": [
    {
     "data": {
      "text/plain": [
       "<function __main__.add_function(a)>"
      ]
     },
     "execution_count": 8,
     "metadata": {},
     "output_type": "execute_result"
    }
   ],
   "source": [
    "globals()['add_function']"
   ]
  },
  {
   "cell_type": "code",
   "execution_count": 9,
   "id": "c62cc63d",
   "metadata": {},
   "outputs": [
    {
     "data": {
      "text/plain": [
       "45"
      ]
     },
     "execution_count": 9,
     "metadata": {},
     "output_type": "execute_result"
    }
   ],
   "source": [
    "a"
   ]
  },
  {
   "cell_type": "code",
   "execution_count": 10,
   "id": "349cf6a0",
   "metadata": {},
   "outputs": [
    {
     "data": {
      "text/plain": [
       "45"
      ]
     },
     "execution_count": 10,
     "metadata": {},
     "output_type": "execute_result"
    }
   ],
   "source": [
    "globals()['a']"
   ]
  },
  {
   "cell_type": "code",
   "execution_count": 11,
   "id": "bed539f6",
   "metadata": {},
   "outputs": [],
   "source": [
    "add_function_ = add_function"
   ]
  },
  {
   "cell_type": "code",
   "execution_count": 12,
   "id": "36ca0b73",
   "metadata": {},
   "outputs": [
    {
     "data": {
      "text/plain": [
       "90"
      ]
     },
     "execution_count": 12,
     "metadata": {},
     "output_type": "execute_result"
    }
   ],
   "source": [
    "add_function_(a)"
   ]
  },
  {
   "cell_type": "code",
   "execution_count": 13,
   "id": "b436330b",
   "metadata": {},
   "outputs": [
    {
     "data": {
      "text/plain": [
       "'add_function'"
      ]
     },
     "execution_count": 13,
     "metadata": {},
     "output_type": "execute_result"
    }
   ],
   "source": [
    "add_function.__name__"
   ]
  },
  {
   "cell_type": "code",
   "execution_count": 14,
   "id": "c9044b87",
   "metadata": {},
   "outputs": [
    {
     "data": {
      "text/plain": [
       "function"
      ]
     },
     "execution_count": 14,
     "metadata": {},
     "output_type": "execute_result"
    }
   ],
   "source": [
    "add_function.__class__"
   ]
  },
  {
   "cell_type": "markdown",
   "id": "dff083fc",
   "metadata": {},
   "source": [
    "# 매개변수\n",
    "+ 컴퓨터 프로그래밍에서 매개변수란 변수의 특별한 한 종류로서, 함수등과 같은 서브루틴의 인풋으로 제공되는 여러 데이터 중 하나를 가리키기 위해 사용된다. 여기서 서브루틴의 인풋으로 제공되는 여러 데이터들을 전달인자라고 부른다 "
   ]
  },
  {
   "cell_type": "code",
   "execution_count": 15,
   "id": "c03fbb3a",
   "metadata": {},
   "outputs": [],
   "source": [
    "def add(a:int,b:int):\n",
    "    if type(a) == str:\n",
    "        print(\"a의 값은 문자열이 될 수 없습니다.\")\n",
    "        return None\n",
    "    return a+b"
   ]
  },
  {
   "cell_type": "code",
   "execution_count": 16,
   "id": "a9aa85b1",
   "metadata": {},
   "outputs": [
    {
     "data": {
      "text/plain": [
       "{'a': int, 'b': int}"
      ]
     },
     "execution_count": 16,
     "metadata": {},
     "output_type": "execute_result"
    }
   ],
   "source": [
    "add.__annotations__"
   ]
  },
  {
   "cell_type": "code",
   "execution_count": 17,
   "id": "d93d9751",
   "metadata": {},
   "outputs": [
    {
     "name": "stdout",
     "output_type": "stream",
     "text": [
      "a의 값은 문자열이 될 수 없습니다.\n"
     ]
    }
   ],
   "source": [
    "add('1', '2')"
   ]
  },
  {
   "cell_type": "markdown",
   "id": "542560bb",
   "metadata": {},
   "source": [
    "# 가변인자처리\n",
    "\n",
    "인터넷 설명참고"
   ]
  },
  {
   "cell_type": "code",
   "execution_count": 26,
   "id": "7c246fb4",
   "metadata": {},
   "outputs": [],
   "source": [
    "class Calculator:\n",
    "    \"\"\"\n",
    "    계산기 클래스입니다.\n",
    "    \"\"\"\n",
    "    result = 0\n",
    "    \n",
    "    def add(self, a):\n",
    "        self.result+=a\n",
    "        \n",
    "    def subtract(self,a):\n",
    "        self.result-=a\n",
    "    def multiplied_by(self,a):\n",
    "        self.result*=a\n",
    "    def dvided_by(self,a):\n",
    "        self.result/=a\n",
    "        \n",
    "    def ac(self):\n",
    "        self.result = 0"
   ]
  },
  {
   "cell_type": "code",
   "execution_count": 27,
   "id": "aa11d8dd",
   "metadata": {},
   "outputs": [
    {
     "name": "stdout",
     "output_type": "stream",
     "text": [
      "Help on class Calculator in module __main__:\n",
      "\n",
      "class Calculator(builtins.object)\n",
      " |  계산기 클래스입니다.\n",
      " |  \n",
      " |  Methods defined here:\n",
      " |  \n",
      " |  ac(self)\n",
      " |  \n",
      " |  add(self, a)\n",
      " |  \n",
      " |  dvided_by(self, a)\n",
      " |  \n",
      " |  multiplied_by(self, a)\n",
      " |  \n",
      " |  subtract(self, a)\n",
      " |  \n",
      " |  ----------------------------------------------------------------------\n",
      " |  Data descriptors defined here:\n",
      " |  \n",
      " |  __dict__\n",
      " |      dictionary for instance variables (if defined)\n",
      " |  \n",
      " |  __weakref__\n",
      " |      list of weak references to the object (if defined)\n",
      " |  \n",
      " |  ----------------------------------------------------------------------\n",
      " |  Data and other attributes defined here:\n",
      " |  \n",
      " |  result = 0\n",
      "\n"
     ]
    }
   ],
   "source": [
    "help(Calculator)"
   ]
  },
  {
   "cell_type": "markdown",
   "id": "55f39fbe",
   "metadata": {},
   "source": [
    "### 내가 원하는 구구단 단수만 입력받아서 출력하는 함수 제작 gugudan(2, 5, 7)"
   ]
  },
  {
   "cell_type": "code",
   "execution_count": 28,
   "id": "bf0945eb",
   "metadata": {},
   "outputs": [],
   "source": [
    "def outer(a):\n",
    "    \n",
    "    def inner(b):\n",
    "        b += 2\n",
    "        print(f\"inner 함수 { locals() }\")\n",
    "        return b\n",
    "    \n",
    "    a += 1\n",
    "    print(f\"outer 함수 { locals()}\")\n",
    "    \n",
    "    for data in range(1,3):\n",
    "        d = inner(a)\n",
    "        print(d)"
   ]
  },
  {
   "cell_type": "code",
   "execution_count": null,
   "id": "be1e0064",
   "metadata": {},
   "outputs": [],
   "source": []
  }
 ],
 "metadata": {
  "kernelspec": {
   "display_name": "Python 3",
   "language": "python",
   "name": "python3"
  },
  "language_info": {
   "codemirror_mode": {
    "name": "ipython",
    "version": 3
   },
   "file_extension": ".py",
   "mimetype": "text/x-python",
   "name": "python",
   "nbconvert_exporter": "python",
   "pygments_lexer": "ipython3",
   "version": "3.8.8"
  }
 },
 "nbformat": 4,
 "nbformat_minor": 5
}
